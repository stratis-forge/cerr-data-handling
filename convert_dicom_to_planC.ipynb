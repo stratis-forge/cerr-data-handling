{
 "cells": [
  {
   "cell_type": "markdown",
   "id": "ec8a2df1-ba70-46cf-a23c-42d39790bb15",
   "metadata": {},
   "source": [
    "## This notebook demonstrates conversion of DICOM to CERR's planC format"
   ]
  },
  {
   "cell_type": "code",
   "execution_count": null,
   "id": "fcd8fa61-0b75-4abf-8dd1-d437d99400ef",
   "metadata": {},
   "outputs": [],
   "source": [
    "import oct2py"
   ]
  },
  {
   "cell_type": "code",
   "execution_count": null,
   "id": "7f5efd74-6a0a-4279-bfdb-fa22533ad69f",
   "metadata": {},
   "outputs": [],
   "source": [
    "%load_ext oct2py.ipython"
   ]
  },
  {
   "cell_type": "code",
   "execution_count": null,
   "id": "2a6ee80a-c4d7-4794-81aa-0ce456f829ec",
   "metadata": {},
   "outputs": [],
   "source": [
    "oc_temp_dir = \"C:/software/octave_temp_dir\""
   ]
  },
  {
   "cell_type": "code",
   "execution_count": null,
   "id": "839fb465-744f-4d91-ba36-29c939f01706",
   "metadata": {},
   "outputs": [],
   "source": [
    "%%octave -t {oc_temp_dir}\n",
    "cerrPath = 'C:/software/CERR_octave_dev/CERR'\n",
    "addpath(genpath(cerrPath));\n",
    "warning('off')\n",
    "eval('pkg load io');\n",
    "eval('pkg load image');\n",
    "\n",
    "eval('pkg load statistics');"
   ]
  },
  {
   "cell_type": "markdown",
   "id": "1ff39d24-417b-41b4-9d51-b1421a33f820",
   "metadata": {},
   "source": [
    "#### The directory structute of DICOM data in our example is as follows.\n",
    "<PRE>\n",
    "DICOM |\n",
    "       -- Patient_1 |\n",
    "                     -- CT |\n",
    "                            -- file1.dcm\n",
    "                            -- file2.dcm\n",
    "                            -- ...\n",
    "                     -- RTDOSE.dcm\n",
    "                     -- RTSTRUCT.dcm\n",
    "        -- Patient_2 |\n",
    "                      -- CT |\n",
    "                             -- file1.dcm\n",
    "                             -- file2.dcm\n",
    "                             -- ...\n",
    "                      -- RTDOSE1.dcm\n",
    "                      -- RTDOSE2.dcm\n",
    "                      -- RTSTRUCT.dcm\n",
    "       ....\n",
    "</PRE>        \n",
    "                       "
   ]
  },
  {
   "cell_type": "code",
   "execution_count": null,
   "id": "e8e7d6d4-18fe-414f-a2a9-23712d12de96",
   "metadata": {},
   "outputs": [],
   "source": [
    "%%octave -t {oc_temp_dir}\n",
    "sourceDir = 'Path/to/Data/HNSCC_Parotid_Model/Train/DICOM'\n",
    "destDir = 'Path/to/Data/HNSCC_Parotid_Model/Train/cerr_files';\n",
    "zipFlag = 'No';\n",
    "mergeFlag = 'No';\n",
    "singleCerrFileFlag = 'No';\n",
    "init_ML_DICOM;\n",
    "batchConvertWithSubDirs(sourceDir,destDir,zipFlag,mergeFlag,singleCerrFileFlag)"
   ]
  }
 ],
 "metadata": {
  "kernelspec": {
   "display_name": "Python 3 (ipykernel)",
   "language": "python",
   "name": "python3"
  },
  "language_info": {
   "codemirror_mode": {
    "name": "ipython",
    "version": 3
   },
   "file_extension": ".py",
   "mimetype": "text/x-python",
   "name": "python",
   "nbconvert_exporter": "python",
   "pygments_lexer": "ipython3",
   "version": "3.9.15"
  }
 },
 "nbformat": 4,
 "nbformat_minor": 5
}
