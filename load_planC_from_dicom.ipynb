{
 "cells": [
  {
   "cell_type": "markdown",
   "id": "a88c23a3-e28e-417d-bbf9-f2847e2eb105",
   "metadata": {},
   "source": [
    "### This notebook demonstrates the conversion of DICOM to planC file format\n",
    "\n",
    "#### The notebook assumes that the following are already [installed](https://github.com/stratis-forge/installation-and-dependencies)\n",
    "1. GNU Octave\n",
    "2. CERR\n",
    "3. Java"
   ]
  },
  {
   "cell_type": "markdown",
   "id": "e5a955a9-c43c-49b6-ae63-4acf6cd7ca99",
   "metadata": {},
   "source": [
    "### Import oct2py and create a directory for Octave-Python i/o"
   ]
  },
  {
   "cell_type": "code",
   "execution_count": null,
   "id": "593e1024-f0ba-4d90-928f-c6738a2d33fc",
   "metadata": {},
   "outputs": [],
   "source": [
    "import oct2py, os\n",
    "\n",
    "# Define directory to store temporary variables for I/O between Octave and Python\n",
    "# Select a location that has fast disk read/write access\n",
    "oc_temp_dir=\"path/for/temp/io/octave_temp_dir\"\n",
    "if not os.path.isdir(oc_temp_dir):\n",
    "    os.mkdir(oc_temp_dir)\n",
    "\n",
    "# Load Octave cell magic\n",
    "%load_ext oct2py.ipython\n",
    "\n",
    "# Without using Octave magic\n",
    "#oc = oct2py.Oct2Py(temp_dir=oc_temp_dir)\n",
    "#oc.version()"
   ]
  },
  {
   "cell_type": "markdown",
   "id": "4f9b4a8b-d90f-4659-8666-02651bf4911a",
   "metadata": {},
   "source": [
    "### Add CERR to Octave path and set JAVA_HOME"
   ]
  },
  {
   "cell_type": "code",
   "execution_count": null,
   "id": "0b507598-13bf-4d61-8371-e6a1dba31e00",
   "metadata": {},
   "outputs": [],
   "source": [
    "%%octave -t {oc_temp_dir}\n",
    "cerrPath = 'path/to/CERR'\n",
    "addpath(genpath(cerrPath));\n",
    "%warning('off')\n",
    "pkg load io\n",
    "pkg load image\n",
    "pkg load statistics\n",
    "setenv('JAVA_HOME','/usr/lib/jvm/java-11-openjdk-amd64')"
   ]
  },
  {
   "cell_type": "markdown",
   "id": "eb9054d2-46d2-467a-9b6c-c68e82ab0edb",
   "metadata": {},
   "source": [
    "### Read planC from DICOM"
   ]
  },
  {
   "cell_type": "code",
   "execution_count": null,
   "id": "26bcca4c-47af-4f8b-8784-61d35cac209a",
   "metadata": {},
   "outputs": [],
   "source": [
    "%%octave -t {oc_temp_dir}\n",
    "ptDcmDir = 'path/to/dicom/directory';\n",
    "optS = getCERROptions;\n",
    "mergeScansFlag = 'No';\n",
    "init_ML_DICOM\n",
    "planC = dicomDirToPlanC(ptDcmDir,optS,mergeScansFlag);\n"
   ]
  },
  {
   "cell_type": "markdown",
   "id": "9ccf3fbb-34f9-416c-9868-74305be8e24e",
   "metadata": {},
   "source": [
    "### Access planC metadata"
   ]
  },
  {
   "cell_type": "code",
   "execution_count": null,
   "id": "7c81cfe2-e1a7-4776-853a-bfb64f370e97",
   "metadata": {},
   "outputs": [],
   "source": [
    "%%octave -t {oc_temp_dir}\n",
    "indexS = planC{end};\n",
    "planC{indexS.scan}(1).scanInfo(1)\n",
    "ctOffset = planC{indexS.scan}(1).scanInfo(1).CTOffset;\n",
    "scanArray3M = single(planC{indexS.scan}(1).scanArray) - ctOffset;"
   ]
  },
  {
   "cell_type": "markdown",
   "id": "68cc7dfa-601f-4679-ae73-3cb0bd004061",
   "metadata": {},
   "source": [
    "### Save planC to file"
   ]
  },
  {
   "cell_type": "code",
   "execution_count": null,
   "id": "6e73d594-ad30-41e1-832f-bd0dd4c3a5e0",
   "metadata": {},
   "outputs": [],
   "source": [
    "%%octave -t {oc_temp_dir}\n",
    "planCSaveFileName = 'path/to/save/planCFileName.mat'\n",
    "planC = save_planC(planC,[],'passed',planCSaveFileName);\n"
   ]
  }
 ],
 "metadata": {
  "kernelspec": {
   "display_name": "Python 3 (ipykernel)",
   "language": "python",
   "name": "python3"
  },
  "language_info": {
   "codemirror_mode": {
    "name": "ipython",
    "version": 3
   },
   "file_extension": ".py",
   "mimetype": "text/x-python",
   "name": "python",
   "nbconvert_exporter": "python",
   "pygments_lexer": "ipython3",
   "version": "3.9.15"
  }
 },
 "nbformat": 4,
 "nbformat_minor": 5
}
