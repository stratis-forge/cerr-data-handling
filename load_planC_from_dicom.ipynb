{
 "cells": [
  {
   "cell_type": "code",
   "execution_count": null,
   "id": "d3513c6d-667e-46c2-b9f0-fdda1b57602f",
   "metadata": {},
   "outputs": [],
   "source": [
    "import oct2py\n",
    "%load_ext oct2py.ipython\n",
    "oc_temp_dir = \"C:/software/octave_temp_dir\""
   ]
  },
  {
   "cell_type": "code",
   "execution_count": null,
   "id": "0b507598-13bf-4d61-8371-e6a1dba31e00",
   "metadata": {},
   "outputs": [],
   "source": [
    "%%octave -t {oc_temp_dir}\n",
    "cerrPath = 'C:/software/CERR_octave_dev/CERR'\n",
    "addpath(genpath(cerrPath));\n",
    "warning('off')\n",
    "eval('pkg load io');\n",
    "eval('pkg load image');\n",
    "eval('pkg load statistics');"
   ]
  },
  {
   "cell_type": "markdown",
   "id": "eb9054d2-46d2-467a-9b6c-c68e82ab0edb",
   "metadata": {},
   "source": [
    "### Read planC from DICOM"
   ]
  },
  {
   "cell_type": "code",
   "execution_count": null,
   "id": "26bcca4c-47af-4f8b-8784-61d35cac209a",
   "metadata": {},
   "outputs": [],
   "source": [
    "%%octave -t {oc_temp_dir}\n",
    "ptDcmDir = 'path/to/dicom/dir';\n",
    "optS = getCERROptions;\n",
    "mergeScansFlag = 'No';\n",
    "planC = dicomDirToPlanC(ptDir,optS,mergeScansFlag);"
   ]
  },
  {
   "cell_type": "markdown",
   "id": "68cc7dfa-601f-4679-ae73-3cb0bd004061",
   "metadata": {},
   "source": [
    "### Save planC to file"
   ]
  },
  {
   "cell_type": "code",
   "execution_count": null,
   "id": "6e73d594-ad30-41e1-832f-bd0dd4c3a5e0",
   "metadata": {},
   "outputs": [],
   "source": [
    "%%octave -t {oc_temp_dir}\n",
    "planCSaveFileName = 'path/to/save/planCFileName.mat'\n",
    "planC = save_planC(planC,[],'passed',planCSaveFileName);"
   ]
  }
 ],
 "metadata": {
  "kernelspec": {
   "display_name": "Python 3 (ipykernel)",
   "language": "python",
   "name": "python3"
  },
  "language_info": {
   "codemirror_mode": {
    "name": "ipython",
    "version": 3
   },
   "file_extension": ".py",
   "mimetype": "text/x-python",
   "name": "python",
   "nbconvert_exporter": "python",
   "pygments_lexer": "ipython3",
   "version": "3.9.15"
  }
 },
 "nbformat": 4,
 "nbformat_minor": 5
}
