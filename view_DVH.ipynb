{
 "cells": [
  {
   "cell_type": "markdown",
   "id": "dd7e0e8c-c906-4aea-89f6-50b4ba0a41ed",
   "metadata": {},
   "source": [
    "# This notebook demonstrates computing and displayihng Dose Volume Histograms from segmentation and dose distribution stored in planC"
   ]
  },
  {
   "cell_type": "code",
   "execution_count": 1,
   "id": "d7bcb73e-9017-4c1b-8231-5b46edeae911",
   "metadata": {},
   "outputs": [],
   "source": [
    "import oct2py"
   ]
  },
  {
   "cell_type": "code",
   "execution_count": 2,
   "id": "0fdbf87b-b6dc-400a-b9f0-d5e4d19cccc6",
   "metadata": {},
   "outputs": [],
   "source": [
    "# Without using Octave magic\n",
    "#oc = oct2py.Oct2Py(temp_dir=oc_temp_dir)\n",
    "#oc.version()"
   ]
  },
  {
   "cell_type": "markdown",
   "id": "5569204f-7f81-4720-9c9c-603d0a6f72d0",
   "metadata": {},
   "source": [
    "## Define directory to store temporary variables for I/O between Octave and Python\n",
    "### Select a location that has fast disk read/write access"
   ]
  },
  {
   "cell_type": "code",
   "execution_count": 3,
   "id": "0cdc1894-1ac0-4d42-88f5-836729362b0a",
   "metadata": {},
   "outputs": [],
   "source": [
    "oc_temp_dir = \"C:/software/octave_temp_dir\""
   ]
  },
  {
   "cell_type": "code",
   "execution_count": 4,
   "id": "20702114-8ec4-42a6-80b3-317e0a574c92",
   "metadata": {},
   "outputs": [],
   "source": [
    "import os\n",
    "if not os.path.isdir(oc_temp_dir):\n",
    "    os.mkdir(oc_temp_dir)"
   ]
  },
  {
   "cell_type": "markdown",
   "id": "14cdfdb4-b5c1-45c3-8d9c-034353bc64b9",
   "metadata": {},
   "source": [
    "## Load Octave cell magic"
   ]
  },
  {
   "cell_type": "code",
   "execution_count": 5,
   "id": "1e5a5224-0330-4db8-b2b8-d963b06950d2",
   "metadata": {},
   "outputs": [],
   "source": [
    "%load_ext oct2py.ipython"
   ]
  },
  {
   "cell_type": "markdown",
   "id": "8fdbc543-31fa-4aa4-900c-f4f02397d8a4",
   "metadata": {},
   "source": [
    "## Add CERR to Octave path"
   ]
  },
  {
   "cell_type": "code",
   "execution_count": 6,
   "id": "1da7f1e9-15d0-4a7e-a7bf-b1e9a16083d9",
   "metadata": {
    "tags": []
   },
   "outputs": [
    {
     "data": {
      "text/plain": [
       "cerrPath = C:/software/CERR_octave_dev/CERR"
      ]
     },
     "metadata": {},
     "output_type": "display_data"
    }
   ],
   "source": [
    "%%octave -t {oc_temp_dir}\n",
    "cerrPath = 'C:/software/CERR_octave_dev/CERR'\n",
    "addpath(genpath(cerrPath));\n",
    "warning('off')\n",
    "eval('pkg load io');\n",
    "eval('pkg load image');\n",
    "eval('pkg load statistics');"
   ]
  },
  {
   "cell_type": "markdown",
   "id": "a5c85f33-cd44-4d85-afa8-5b17c09dff7d",
   "metadata": {},
   "source": [
    "## Compute DVH and make it available to Python"
   ]
  },
  {
   "cell_type": "code",
   "execution_count": 7,
   "id": "05154d69-dd7f-41ae-b9e0-97e4403996af",
   "metadata": {},
   "outputs": [
    {
     "data": {
      "text/plain": [
       "CERR>>  Decompressing head_neck_ex1_20may03.mat.bz2..."
      ]
     },
     "metadata": {},
     "output_type": "display_data"
    },
    {
     "data": {
      "text/plain": []
     },
     "metadata": {},
     "output_type": "display_data"
    },
    {
     "data": {
      "text/plain": [
       "7-Zip 4.65  Copyright (c) 1999-2009 Igor Pavlov  2009-02-03"
      ]
     },
     "metadata": {},
     "output_type": "display_data"
    },
    {
     "data": {
      "text/plain": []
     },
     "metadata": {},
     "output_type": "display_data"
    },
    {
     "data": {
      "text/plain": [
       "Processing archive: C:\\software\\CERR_octave_dev\\CERR\\CERR_core\\..\\Unit_Testing\\data_for_cerr_tests\\CERR_plans\\head_neck_ex1_20may03.mat.bz2"
      ]
     },
     "metadata": {},
     "output_type": "display_data"
    },
    {
     "data": {
      "text/plain": []
     },
     "metadata": {},
     "output_type": "display_data"
    },
    {
     "data": {
      "text/plain": [
       "Extracting  head_neck_ex1_20may03.mat"
      ]
     },
     "metadata": {},
     "output_type": "display_data"
    },
    {
     "data": {
      "text/plain": []
     },
     "metadata": {},
     "output_type": "display_data"
    },
    {
     "data": {
      "text/plain": [
       "Everything is Ok"
      ]
     },
     "metadata": {},
     "output_type": "display_data"
    },
    {
     "data": {
      "text/plain": []
     },
     "metadata": {},
     "output_type": "display_data"
    },
    {
     "data": {
      "text/plain": [
       "Size:       68680824"
      ]
     },
     "metadata": {},
     "output_type": "display_data"
    },
    {
     "data": {
      "text/plain": [
       "Compressed: 6748538"
      ]
     },
     "metadata": {},
     "output_type": "display_data"
    },
    {
     "data": {
      "text/plain": []
     },
     "metadata": {},
     "output_type": "display_data"
    },
    {
     "data": {
      "text/plain": [
       "CERR>>  Loading head_neck_ex1_20may03.mat.bz2..."
      ]
     },
     "metadata": {},
     "output_type": "display_data"
    },
    {
     "data": {
      "text/plain": [
       "CERR>>  Loaded head_neck_ex1_20may03.mat.bz2..."
      ]
     },
     "metadata": {},
     "output_type": "display_data"
    }
   ],
   "source": [
    "%%octave -t {oc_temp_dir}\n",
    "sampleData = fullfile(getCERRPath(),'..','Unit_Testing','data_for_cerr_tests', ...\n",
    "              'CERR_plans','head_neck_ex1_20may03.mat.bz2');\n",
    "doseNum = 1;\n",
    "binWidth = 0.01;\n",
    "\n",
    "planC = loadPlanC(sampleData, tempdir());\n",
    "planC = updatePlanFields(planC);\n",
    "planC = quality_assure_planC(sampleData, planC);\n",
    "indexS = planC{end};\n",
    "\n",
    "% Get Structure names from planC or define your own to extract DVH\n",
    "indexS = planC{end};\n",
    "strC = {planC{indexS.structures}.structureName};\n",
    "\n",
    "doses = {length(strC)};\n",
    "vols = {length(strC)};\n",
    "\n",
    "for i = 1:length(strC)\n",
    "    structNum = getMatchingIndex(strC(i), strC, 'exact');\n",
    "    scanNum = getStructureAssociatedScan(structNum ,planC);        \n",
    "    [doseV,volV] = getDVH(structNum,doseNum,planC);\n",
    "    [doseBinsV, volHistV] = doseHist(doseV, volV, binWidth);\n",
    "    doses{i} = doseBinsV;\n",
    "    vols{i} = volHistV;\n",
    "end"
   ]
  },
  {
   "cell_type": "markdown",
   "id": "87894ce2-5231-4cf5-8b29-5eab1949ed36",
   "metadata": {},
   "source": [
    "Pull 'doses', 'vols' and 'strC' variables into Python (They are currently Octave variables)"
   ]
  },
  {
   "cell_type": "code",
   "execution_count": 8,
   "id": "d3159b08-f35f-4372-9190-72c9a083cab2",
   "metadata": {},
   "outputs": [],
   "source": [
    "%octave_pull doses vols strC"
   ]
  },
  {
   "cell_type": "markdown",
   "id": "c6c15c9c-0476-48ba-b21b-647378c42e5d",
   "metadata": {},
   "source": [
    "## Plot DVH"
   ]
  },
  {
   "cell_type": "code",
   "execution_count": 9,
   "id": "1767cea9-af54-485f-bfd5-3d00cfdec7fd",
   "metadata": {},
   "outputs": [
    {
     "data": {
      "application/vnd.jupyter.widget-view+json": {
       "model_id": "4e1eaa19ff6a42e6b58140f7289d0f90",
       "version_major": 2,
       "version_minor": 0
      },
      "text/plain": [
       "Output()"
      ]
     },
     "metadata": {},
     "output_type": "display_data"
    },
    {
     "data": {
      "application/vnd.jupyter.widget-view+json": {
       "model_id": "35a40a2b10834239b3cac9fad31e7ea8",
       "version_major": 2,
       "version_minor": 0
      },
      "text/plain": [
       "HBox(children=(VBox(children=(Checkbox(value=True, description='Brain', indent=False), Checkbox(value=True, de…"
      ]
     },
     "metadata": {},
     "output_type": "display_data"
    }
   ],
   "source": [
    "import matplotlib.pyplot as plt\n",
    "import numpy as np\n",
    "import ipywidgets as widgets\n",
    "from IPython.display import clear_output\n",
    "from ipywidgets import HBox, VBox\n",
    "\n",
    "dose_list = doses[0].tolist()\n",
    "vols_list = vols[0].tolist()\n",
    "\n",
    "#Convert absolute volumes to relative volumes (i.e. percentage)\n",
    "def toRelativeVolV(volHistV):\n",
    "    cumVolsV = np.cumsum(volHistV)\n",
    "    cumVols2V = cumVolsV[-1] - cumVolsV\n",
    "    relativeVolV = cumVols2V / cumVolsV[-1]\n",
    "    return relativeVolV\n",
    "\n",
    "def update_checkbox(change):\n",
    "    with output:\n",
    "        update_graph(change['new'])\n",
    "\n",
    "boxes = []\n",
    "\n",
    "for i in range(len(dose_list)):\n",
    "    box = widgets.Checkbox(\n",
    "        value=True,\n",
    "        description=strC[0][i],\n",
    "        disabled=False,\n",
    "        indent=False,\n",
    "    )\n",
    "    boxes.append(box)\n",
    "    boxes[i].observe(update_checkbox, names='value')\n",
    "\n",
    "#Arrange checkboxes in grid\n",
    "left_col = []    \n",
    "middle_col = []\n",
    "right_col = []\n",
    "\n",
    "for i in range(len(boxes)):\n",
    "    if(i < len(boxes) * .34):\n",
    "        left_col.append(boxes[i])\n",
    "    elif(i < len(boxes) * .67):\n",
    "        middle_col.append(boxes[i])\n",
    "    else:\n",
    "        right_col.append(boxes[i])\n",
    "\n",
    "def update_graph(x):\n",
    "    clear_output(wait=True)\n",
    "       \n",
    "    fig, ax = plt.subplots()\n",
    "    \n",
    "    for i in range(len(dose_list)):\n",
    "        if(boxes[i].value):\n",
    "            ax.plot(dose_list[i][0], toRelativeVolV(vols_list[i]) * 100, label=strC[0][i])\n",
    "    \n",
    "    ax.legend(loc=\"upper right\")\n",
    "    \n",
    "    display(widgets.Output())\n",
    "    plt.ylabel('Volume (%)')\n",
    "    plt.xlabel('Dose (Gy)')\n",
    "    plt.rcParams[\"figure.figsize\"] = (13, 7)\n",
    "    plt.show()\n",
    "          \n",
    "output = widgets.Output()\n",
    "display(output)\n",
    "\n",
    "display(HBox([VBox(left_col), VBox(middle_col), VBox(right_col)]))\n",
    "\n",
    "#Uncheck and recheck the first box to display the graph\n",
    "boxes[0].value = False\n",
    "boxes[0].value = True"
   ]
  }
 ],
 "metadata": {
  "kernelspec": {
   "display_name": "Python 3 (ipykernel)",
   "language": "python",
   "name": "python3"
  },
  "language_info": {
   "codemirror_mode": {
    "name": "ipython",
    "version": 3
   },
   "file_extension": ".py",
   "mimetype": "text/x-python",
   "name": "python",
   "nbconvert_exporter": "python",
   "pygments_lexer": "ipython3",
   "version": "3.9.15"
  }
 },
 "nbformat": 4,
 "nbformat_minor": 5
}
