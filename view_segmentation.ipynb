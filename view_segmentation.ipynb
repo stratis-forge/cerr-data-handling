{
 "cells": [
  {
   "cell_type": "markdown",
   "id": "37944c09-5b15-4e8a-8962-fd70e8fd1f4b",
   "metadata": {
    "tags": []
   },
   "source": [
    "# This notebook demonstrates accessing and visualizing scan and segmentations from planC"
   ]
  },
  {
   "cell_type": "code",
   "execution_count": 1,
   "id": "76da769d-a7bf-4c86-856d-fe13af5b57c0",
   "metadata": {},
   "outputs": [],
   "source": [
    "import oct2py"
   ]
  },
  {
   "cell_type": "code",
   "execution_count": 2,
   "id": "a1ff8fcd-386b-48c7-bc36-43e6416052ec",
   "metadata": {},
   "outputs": [],
   "source": [
    "# Without using Octave magic\n",
    "#oc = oct2py.Oct2Py(temp_dir=oc_temp_dir)\n",
    "#oc.version()"
   ]
  },
  {
   "cell_type": "markdown",
   "id": "75feebfa-020f-4d3d-81ba-bee99f3325a4",
   "metadata": {},
   "source": [
    "## Define directory to store temporary variables for I/O between Octave and Python\n",
    "### Select a location that has fast disk read/write access"
   ]
  },
  {
   "cell_type": "code",
   "execution_count": 3,
   "id": "e91bd5d9-402a-41e4-a4a0-c7f55bcf623e",
   "metadata": {},
   "outputs": [],
   "source": [
    "oc_temp_dir=\"C:/software/octave_temp_dir\""
   ]
  },
  {
   "cell_type": "code",
   "execution_count": 4,
   "id": "cd423904-f7f4-4f32-9249-8aaa7ab49a8f",
   "metadata": {},
   "outputs": [],
   "source": [
    "import os\n",
    "if not os.path.isdir(oc_temp_dir):\n",
    "    os.mkdir(oc_temp_dir)"
   ]
  },
  {
   "cell_type": "markdown",
   "id": "ae5cf699-77f6-4f55-8d12-479204cd41bd",
   "metadata": {},
   "source": [
    "## Load Octave cell magic"
   ]
  },
  {
   "cell_type": "code",
   "execution_count": 5,
   "id": "15b77ca1-514b-4939-9b68-1ca43e2d6d2a",
   "metadata": {},
   "outputs": [],
   "source": [
    "%load_ext oct2py.ipython"
   ]
  },
  {
   "cell_type": "markdown",
   "id": "18b68eed-b2a1-49dc-a7d3-4139eea9a65d",
   "metadata": {},
   "source": [
    "## Add CERR to Octave path"
   ]
  },
  {
   "cell_type": "code",
   "execution_count": 6,
   "id": "dea1412a-4230-492d-85fd-49d070001789",
   "metadata": {},
   "outputs": [
    {
     "data": {
      "text/plain": [
       "cerrPath = C:/software/CERR_octave_dev/CERR"
      ]
     },
     "metadata": {},
     "output_type": "display_data"
    }
   ],
   "source": [
    "%%octave -t {oc_temp_dir}\n",
    "cerrPath = 'C:/software/CERR_octave_dev/CERR'\n",
    "addpath(genpath(cerrPath));\n",
    "warning('off')\n",
    "eval('pkg load io');\n",
    "eval('pkg load image');\n",
    "eval('pkg load statistics');"
   ]
  },
  {
   "cell_type": "code",
   "execution_count": 7,
   "id": "3ac6d630-db42-4514-8b85-638afded4437",
   "metadata": {},
   "outputs": [],
   "source": [
    "## Extract scan and segmentation masks, make them available to Python"
   ]
  },
  {
   "cell_type": "markdown",
   "id": "385de362-9a74-4a0c-8691-263e4c0d0ef4",
   "metadata": {
    "tags": []
   },
   "source": [
    "Loacation of sample dataset"
   ]
  },
  {
   "cell_type": "code",
   "execution_count": 8,
   "id": "d01c0502-7ea2-4820-bf0f-9ab624c637fe",
   "metadata": {},
   "outputs": [
    {
     "data": {
      "text/plain": [
       "CERR>>  Decompressing head_neck_ex1_20may03.mat.bz2..."
      ]
     },
     "metadata": {},
     "output_type": "display_data"
    },
    {
     "data": {
      "text/plain": []
     },
     "metadata": {},
     "output_type": "display_data"
    },
    {
     "data": {
      "text/plain": [
       "7-Zip 4.65  Copyright (c) 1999-2009 Igor Pavlov  2009-02-03"
      ]
     },
     "metadata": {},
     "output_type": "display_data"
    },
    {
     "data": {
      "text/plain": []
     },
     "metadata": {},
     "output_type": "display_data"
    },
    {
     "data": {
      "text/plain": [
       "Processing archive: C:\\software\\CERR_octave_dev\\CERR\\CERR_core\\..\\Unit_Testing\\data_for_cerr_tests\\CERR_plans\\head_neck_ex1_20may03.mat.bz2"
      ]
     },
     "metadata": {},
     "output_type": "display_data"
    },
    {
     "data": {
      "text/plain": []
     },
     "metadata": {},
     "output_type": "display_data"
    },
    {
     "data": {
      "text/plain": [
       "Extracting  head_neck_ex1_20may03.mat"
      ]
     },
     "metadata": {},
     "output_type": "display_data"
    },
    {
     "data": {
      "text/plain": []
     },
     "metadata": {},
     "output_type": "display_data"
    },
    {
     "data": {
      "text/plain": [
       "Everything is Ok"
      ]
     },
     "metadata": {},
     "output_type": "display_data"
    },
    {
     "data": {
      "text/plain": []
     },
     "metadata": {},
     "output_type": "display_data"
    },
    {
     "data": {
      "text/plain": [
       "Size:       68680824"
      ]
     },
     "metadata": {},
     "output_type": "display_data"
    },
    {
     "data": {
      "text/plain": [
       "Compressed: 6748538"
      ]
     },
     "metadata": {},
     "output_type": "display_data"
    },
    {
     "data": {
      "text/plain": []
     },
     "metadata": {},
     "output_type": "display_data"
    },
    {
     "data": {
      "text/plain": [
       "CERR>>  Loading head_neck_ex1_20may03.mat.bz2..."
      ]
     },
     "metadata": {},
     "output_type": "display_data"
    },
    {
     "data": {
      "text/plain": [
       "CERR>>  Loaded head_neck_ex1_20may03.mat.bz2..."
      ]
     },
     "metadata": {},
     "output_type": "display_data"
    },
    {
     "data": {
      "text/plain": [
       "ans = Brain"
      ]
     },
     "metadata": {},
     "output_type": "display_data"
    },
    {
     "data": {
      "text/plain": [
       "ans = Brain Stem"
      ]
     },
     "metadata": {},
     "output_type": "display_data"
    },
    {
     "data": {
      "text/plain": [
       "ans = Left Orbit"
      ]
     },
     "metadata": {},
     "output_type": "display_data"
    },
    {
     "data": {
      "text/plain": [
       "ans = Mandible"
      ]
     },
     "metadata": {},
     "output_type": "display_data"
    },
    {
     "data": {
      "text/plain": [
       "ans = Optic Chiasm"
      ]
     },
     "metadata": {},
     "output_type": "display_data"
    },
    {
     "data": {
      "text/plain": [
       "ans = Optic Nerves"
      ]
     },
     "metadata": {},
     "output_type": "display_data"
    },
    {
     "data": {
      "text/plain": [
       "ans = Parotid Gland"
      ]
     },
     "metadata": {},
     "output_type": "display_data"
    },
    {
     "data": {
      "text/plain": [
       "ans = Right Orbit"
      ]
     },
     "metadata": {},
     "output_type": "display_data"
    },
    {
     "data": {
      "text/plain": [
       "ans = SKIN"
      ]
     },
     "metadata": {},
     "output_type": "display_data"
    },
    {
     "data": {
      "text/plain": [
       "ans = Spinal Cord"
      ]
     },
     "metadata": {},
     "output_type": "display_data"
    },
    {
     "data": {
      "text/plain": [
       "ans = Target 1"
      ]
     },
     "metadata": {},
     "output_type": "display_data"
    },
    {
     "data": {
      "text/plain": [
       "ans = Target 2"
      ]
     },
     "metadata": {},
     "output_type": "display_data"
    },
    {
     "data": {
      "text/plain": [
       "ans = Target 3"
      ]
     },
     "metadata": {},
     "output_type": "display_data"
    }
   ],
   "source": [
    "%%octave -t {oc_temp_dir}\n",
    "sampleData = fullfile(getCERRPath(),'..','Unit_Testing','data_for_cerr_tests', ...\n",
    "              'CERR_plans','head_neck_ex1_20may03.mat.bz2');\n",
    "planC = loadPlanC(sampleData, tempdir());\n",
    "planC = updatePlanFields(planC);\n",
    "planC = quality_assure_planC(sampleData, planC);\n",
    "indexS = planC{end};\n",
    "\n",
    "% Structure names\n",
    "planC{indexS.structures}.structureName\n",
    "\n",
    "%Get scan array\n",
    "indexS = planC{end};\n",
    "scanNum = 1;\n",
    "ctOffset = planC{indexS.scan}(scanNum).scanInfo(1).CTOffset;\n",
    "scanArray = single(getScanArray(scanNum,planC)) - ctOffset;\n",
    "\n",
    "%Get structure labels & masks\n",
    "numStructs = length(planC{indexS.structures});\n",
    "structNameC = {planC{indexS.structures}.structureName};\n",
    "\n",
    "strNameC = {'Brain', 'Brain Stem', 'Parotid Gland',...\n",
    "              'Spinal Cord', 'Target 1', 'Target 2'};\n",
    "for strNum = 1:length(strNameC)\n",
    "    strName = strNameC{strNum};\n",
    "    idx = getMatchingIndex(strName,structNameC,'EXACT');\n",
    "    mask3M = getStrMask(idx, planC);\n",
    "    maskC{strNum} = mask3M;\n",
    "end\n",
    "\n",
    "% Get scan grid\n",
    "[xScanValsV,yScanValsV,zScanValsV] = getScanXYZVals(planC{indexS.scan}(scanNum));"
   ]
  },
  {
   "cell_type": "markdown",
   "id": "62e099f0-c2d4-42ae-a17f-14a1c724e912",
   "metadata": {},
   "source": [
    "Push planC from Python to Octave"
   ]
  },
  {
   "cell_type": "markdown",
   "id": "d415c5ff-206e-42ae-b6e8-35fd53eb8856",
   "metadata": {},
   "source": [
    "Pull binary masks from Octave to Python"
   ]
  },
  {
   "cell_type": "code",
   "execution_count": 9,
   "id": "04dbc412-f051-408f-ada5-636caa4c0485",
   "metadata": {},
   "outputs": [],
   "source": [
    "%octave_pull maskC strNameC scanArray xScanValsV yScanValsV zScanValsV"
   ]
  },
  {
   "cell_type": "markdown",
   "id": "e5682447-4197-4c62-954d-a9b98cf678b7",
   "metadata": {},
   "source": [
    "## Visualize segmentation on orthogonal views"
   ]
  },
  {
   "cell_type": "code",
   "execution_count": 10,
   "id": "9ffcf942-bf1a-497d-88c3-ba2c071a5246",
   "metadata": {},
   "outputs": [
    {
     "data": {
      "application/vnd.jupyter.widget-view+json": {
       "model_id": "ff1e14e972db4955935fcce558d4699f",
       "version_major": 2,
       "version_minor": 0
      },
      "text/plain": [
       "IntSlider(value=1, max=79, min=1)"
      ]
     },
     "metadata": {},
     "output_type": "display_data"
    },
    {
     "data": {
      "application/vnd.jupyter.widget-view+json": {
       "model_id": "737c3ac3d8534514a6ac8f1c393a1732",
       "version_major": 2,
       "version_minor": 0
      },
      "text/plain": [
       "Output()"
      ]
     },
     "metadata": {},
     "output_type": "display_data"
    },
    {
     "data": {
      "application/vnd.jupyter.widget-view+json": {
       "model_id": "19b851159ad148e380d1ba176b74b206",
       "version_major": 2,
       "version_minor": 0
      },
      "text/plain": [
       "IntSlider(value=1, max=256, min=1)"
      ]
     },
     "metadata": {},
     "output_type": "display_data"
    },
    {
     "data": {
      "application/vnd.jupyter.widget-view+json": {
       "model_id": "71ef42185a5c438995316336c58289d1",
       "version_major": 2,
       "version_minor": 0
      },
      "text/plain": [
       "Output()"
      ]
     },
     "metadata": {},
     "output_type": "display_data"
    },
    {
     "data": {
      "application/vnd.jupyter.widget-view+json": {
       "model_id": "7524e2aaf62341aa9362b03bd31179a1",
       "version_major": 2,
       "version_minor": 0
      },
      "text/plain": [
       "IntSlider(value=1, max=256, min=1)"
      ]
     },
     "metadata": {},
     "output_type": "display_data"
    },
    {
     "data": {
      "application/vnd.jupyter.widget-view+json": {
       "model_id": "f7bfe25cfd064197b10e278b1ac51386",
       "version_major": 2,
       "version_minor": 0
      },
      "text/plain": [
       "Output()"
      ]
     },
     "metadata": {},
     "output_type": "display_data"
    }
   ],
   "source": [
    "import matplotlib.pyplot as plt\n",
    "import numpy as np\n",
    "from IPython.display import clear_output\n",
    "import ipywidgets as widgets\n",
    "from ipywidgets import Layout\n",
    "\n",
    "#dx, dy = 1, 1\n",
    "#x = np.arange(0, 127, dx)\n",
    "#y = np.arange(0, 100, dy)\n",
    "#extent = np.min(x), np.max(x), np.min(y), np.max(y)\n",
    "\n",
    "window_center = 45\n",
    "window_width = 1250\n",
    "\n",
    "extent_trans = np.min(xScanValsV), np.max(xScanValsV), np.min(yScanValsV), np.max(yScanValsV)\n",
    "extent_sag = np.min(yScanValsV), np.max(yScanValsV), np.min(zScanValsV), np.max(zScanValsV)\n",
    "extent_cor = np.min(xScanValsV), np.max(xScanValsV), np.min(zScanValsV), np.max(zScanValsV)\n",
    "\n",
    "clear_output(wait=True)\n",
    "\n",
    "def window_image(image, window_center, window_width):\n",
    "    img_min = window_center - window_width // 2\n",
    "    img_max = window_center + window_width // 2\n",
    "    window_image = image.copy()\n",
    "    window_image[window_image < img_min] = img_min\n",
    "    window_image[window_image > img_max] = img_max\n",
    "    \n",
    "    return window_image\n",
    "\n",
    "def rotate_image(img):\n",
    "    return(list(zip(*img)))\n",
    "\n",
    "def show_slice(slcNum, view):\n",
    "    clear_output(wait=True)\n",
    "    print(view + ' view slice ' + str(slcNum))\n",
    "    if 'fig' in locals():\n",
    "        fig.remove()\n",
    "    fig, (ax,ax_legend) = plt.subplots(1,2)\n",
    "    ax_legend.set_visible(False)\n",
    "    #window_center = 45\n",
    "    #window_width = 1250\n",
    "    \n",
    "    if view.lower() == 'axial':\n",
    "        windowed_img = window_image(scanArray[: ,: ,slcNum - 1], window_center, window_width)\n",
    "        extent = extent_trans\n",
    "    elif view.lower() == 'sagittal':\n",
    "        #windowed_img = rotate_image(window_image(scanArray[40:210, slcNum + 79, :], window_center, window_width))\n",
    "        windowed_img = rotate_image(window_image(scanArray[:, slcNum - 1, :], window_center, window_width))\n",
    "        extent = extent_sag\n",
    "    elif view.lower() == 'coronal':\n",
    "        windowed_img = rotate_image(window_image(scanArray[slcNum - 1, :, :], window_center, window_width))\n",
    "        extent = extent_cor\n",
    "    else:\n",
    "        raise Exeception('Invalid view type: ' + view)\n",
    "    \n",
    "    im1 = ax.imshow(windowed_img, cmap=plt.cm.gray, alpha=1,\n",
    "                    interpolation='nearest', extent=extent)\n",
    "    \n",
    "    cmaps = [plt.cm.get_cmap(\"Oranges\").copy(),plt.cm.get_cmap(\"Oranges\").copy(), \\\n",
    "             plt.cm.get_cmap(\"Blues\").copy(),plt.cm.get_cmap(\"Blues\").copy(), \\\n",
    "             plt.cm.get_cmap(\"Purples\").copy(),plt.cm.get_cmap(\"Greens\").copy()]\n",
    "\n",
    "    if view.lower() == 'axial':\n",
    "        for maskNum in range(0,6,1):\n",
    "            mask_cmap = cmaps[maskNum]\n",
    "            mask_cmap.set_under('k', alpha=0)\n",
    "            im2 = ax.imshow(maskC[0,maskNum][:,:,slcNum-1], \n",
    "                            cmap=mask_cmap, alpha=.8, extent=extent,\n",
    "                            interpolation='none', clim=[0.5, 1])      \n",
    "            \n",
    "    elif view.lower() == 'sagittal': \n",
    "        for maskNum in range(0,6,1):\n",
    "            mask_cmap = cmaps[maskNum]\n",
    "            mask_cmap.set_under('k', alpha=0)\n",
    "            #im2 = ax.imshow(rotate_image(maskC[0,maskNum][50:200, slcNum + 79, :]),\n",
    "            #                cmap=mask_cmap, alpha=.8, extent=extent,\n",
    "            #                interpolation='none', clim=[0.5, 1])\n",
    "            im2 = ax.imshow(rotate_image(maskC[0,maskNum][:, slcNum - 1, :]),\n",
    "                            cmap=mask_cmap, alpha=.8, extent=extent,\n",
    "                            interpolation='none', clim=[0.5, 1])\n",
    "            \n",
    "    elif view.lower() == 'coronal':\n",
    "        for maskNum in range(0,6,1):\n",
    "            mask_cmap = cmaps[maskNum]\n",
    "            mask_cmap.set_under('k', alpha=0)\n",
    "            #im2 = ax.imshow(rotate_image(maskC[0,maskNum][slcNum + 60, 50:200, :]),\n",
    "            #                cmap=mask_cmap, alpha=.8, extent=extent,\n",
    "            #                interpolation='none', clim=[0.5, 1])\n",
    "            im2 = ax.imshow(rotate_image(maskC[0,maskNum][slcNum - 1, :, :]),\n",
    "                            cmap=mask_cmap, alpha=.8, extent=extent,\n",
    "                            interpolation='none', clim=[0.5, 1])\n",
    "    ax.set_xticks([])\n",
    "    ax.set_yticks([])\n",
    "    ax.set_xticklabels([])\n",
    "    ax.set_yticklabels([])\n",
    "    plt.rcParams[\"figure.figsize\"] = (5, 3)\n",
    "    plt.show()\n",
    "    \n",
    "slice_slider_axial = widgets.IntSlider(min=1,max=79,step=1)\n",
    "outputSlc_axial = widgets.Output()\n",
    "    \n",
    "#slice_slider_sagittal = widgets.IntSlider(min=1,max=88,step=1)\n",
    "slice_slider_sagittal = widgets.IntSlider(min=1,max=256,step=1)\n",
    "outputSlc_sagittal = widgets.Output()\n",
    "\n",
    "#slice_slider_coronal = widgets.IntSlider(min=1,max=116,step=1)\n",
    "slice_slider_coronal = widgets.IntSlider(min=1,max=256,step=1)\n",
    "outputSlc_coronal = widgets.Output()\n",
    "\n",
    "display(slice_slider_axial, outputSlc_axial, slice_slider_sagittal, outputSlc_sagittal, slice_slider_coronal,outputSlc_coronal)\n",
    "\n",
    "def update_slice_axial(change):\n",
    "    with outputSlc_axial:\n",
    "        show_slice(change['new'], 'axial')\n",
    "\n",
    "def update_slice_sagittal(change):\n",
    "    with outputSlc_sagittal:\n",
    "        show_slice(change['new'], 'sagittal')\n",
    "        \n",
    "def update_slice_coronal(change):\n",
    "    with outputSlc_coronal:\n",
    "        show_slice(change['new'], 'coronal')\n",
    "        \n",
    "slice_slider_axial.observe(update_slice_axial, names='value')\n",
    "slice_slider_sagittal.observe(update_slice_sagittal, names='value')\n",
    "slice_slider_coronal.observe(update_slice_coronal, names='value')\n",
    "\n",
    "# Set values to display figures\n",
    "slice_slider_axial.value = 40\n",
    "slice_slider_sagittal.value = 120\n",
    "slice_slider_coronal.value = 120"
   ]
  }
 ],
 "metadata": {
  "kernelspec": {
   "display_name": "Python 3 (ipykernel)",
   "language": "python",
   "name": "python3"
  },
  "language_info": {
   "codemirror_mode": {
    "name": "ipython",
    "version": 3
   },
   "file_extension": ".py",
   "mimetype": "text/x-python",
   "name": "python",
   "nbconvert_exporter": "python",
   "pygments_lexer": "ipython3",
   "version": "3.9.15"
  }
 },
 "nbformat": 4,
 "nbformat_minor": 5
}
